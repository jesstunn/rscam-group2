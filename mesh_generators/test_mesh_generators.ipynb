{
 "cells": [
  {
   "cell_type": "code",
   "execution_count": null,
   "metadata": {
    "vscode": {
     "languageId": "plaintext"
    }
   },
   "outputs": [],
   "source": [
    "# ========================================================\n",
    "# Testing custom sulci generator\n",
    "# ========================================================\n",
    "\n",
    "# Real-world dimensions (in mm)\n",
    "sas_length_mm = 10.0                # Length of the SAS space\n",
    "sas_height_mm = 1.0                 # Height of the SAS space\n",
    "sulcus_depth_mm = 1.0               # Depth of sulci\n",
    "sulcus_width_mm = 0.5               # Width of sulci\n",
    "diffusion_coefficient_m2s = 1e-9    # Diffusion in m2/s\n",
    "\n",
    "mesh_generator = SASMeshGenerator(\n",
    "    L_mm=sas_length_mm,\n",
    "    H_mm=sas_height_mm,\n",
    "    D_real=diffusion_coefficient_m2s,\n",
    "    D_units=\"m2/s\",\n",
    "    sulci_n=3,\n",
    "    sulci_h_mm=sulcus_depth_mm,\n",
    "    sulci_width_mm=sulcus_width_mm,\n",
    "    sulci_spacing='Uniform'\n",
    ")\n",
    "\n",
    "# Generate and plot the mesh\n",
    "mesh = mesh_generator.generate_mesh(resolution=60)\n",
    "mesh_generator.plot_mesh(mesh, \"sas_sulci_mesh.png\")\n",
    "\n",
    "# Save mesh in PVD format for visualization in ParaView\n",
    "mesh_file = File(\"sas_mesh.pvd\")\n",
    "mesh_file << mesh\n",
    "\n",
    "# Get non-dimensionalised parameters\n",
    "nd_params = mesh_generator.get_nondimensional_parameters()\n",
    "print(\"Non-dimensionalised Parameters:\", nd_params)"
   ]
  },
  {
   "cell_type": "code",
   "execution_count": null,
   "metadata": {
    "vscode": {
     "languageId": "plaintext"
    }
   },
   "outputs": [],
   "source": [
    "# ========================================================\n",
    "# Testing wavy wall generator\n",
    "# ========================================================\n",
    "\n",
    "# Define test parameters\n",
    "L_mm = 10               # Length of the domain in mm\n",
    "H_mm = 1                # Height of the domain in mm\n",
    "sulcus_depth_mm = 1     # Depth of each sulcus (mm)\n",
    "num_sulci = 10          # Number of sulci (full cosine wave cycles)\n",
    "nx = 1000               # Mesh resolution (x-direction)\n",
    "ny = 100                # Mesh resolution (y-direction)\n",
    "\n",
    "# Create an instance of the WavyWallMeshGenerator class\n",
    "mesh_generator = WavyWallMeshGenerator(\n",
    "    L_mm=L_mm, H_mm=H_mm, \n",
    "    nx=nx, ny=ny, \n",
    "    sulcus_depth_mm=sulcus_depth_mm, num_sulci=num_sulci\n",
    ")\n",
    "\n",
    "# Generate the mesh\n",
    "mesh = mesh_generator.generate_mesh(resolution=60)\n",
    "\n",
    "# Save the mesh as a .pvd file for ParaView\n",
    "File(\"wavy_wall_mesh.pvd\") << mesh\n",
    "\n",
    "# Plot the mesh\n",
    "plot(mesh)\n",
    "plt.title(\"Wavy Wall Mesh\")\n",
    "plt.show()\n",
    "\n",
    "# Output paramteres of simulation\n",
    "params = mesh_generator.get_parameters()\n",
    "\n",
    "for key, value in params.items():\n",
    "    print(f\"{key}: {value}\")\n"
   ]
  }
 ],
 "metadata": {
  "language_info": {
   "name": "python"
  }
 },
 "nbformat": 4,
 "nbformat_minor": 2
}
